{
 "cells": [
  {
   "cell_type": "code",
   "execution_count": 1,
   "id": "e110fa21",
   "metadata": {},
   "outputs": [],
   "source": [
    "import cv2\n",
    "import numpy as np\n",
    "import os"
   ]
  },
  {
   "cell_type": "code",
   "execution_count": 2,
   "id": "9c6c238e",
   "metadata": {},
   "outputs": [],
   "source": [
    "# Data\n",
    "\n",
    "dataset_path = \"./data/\"\n",
    "faceData = []\n",
    "labels = []\n",
    "nameMap = {}\n",
    "\n",
    "classId = 0\n",
    "\n",
    "for f in os.listdir(dataset_path):\n",
    "    if f.endswith(\".npy\"):\n",
    "        nameMap[classId] = f[:-4]\n",
    "        # X Value\n",
    "        dataItem = np.load(dataset_path + f)\n",
    "        m = dataItem.shape[0]\n",
    "        faceData.append(dataItem)\n",
    "        \n",
    "        # Y Value\n",
    "        target = classId * np.ones((m,))\n",
    "        classId += 1\n",
    "        labels.append(target)\n",
    "        \n",
    "        \n",
    "\n",
    "XT = np.concatenate(faceData,axis=0)\n",
    "YT = np.concatenate(labels,axis=0)"
   ]
  },
  {
   "cell_type": "code",
   "execution_count": 3,
   "id": "adec2cbe",
   "metadata": {},
   "outputs": [],
   "source": [
    "XT.shape, YT.shape"
   ]
  },
  {
   "cell_type": "code",
   "execution_count": 4,
   "id": "d918c497",
   "metadata": {},
   "outputs": [],
   "source": [
    "921600/(3*300)"
   ]
  },
  {
   "cell_type": "code",
   "execution_count": 5,
   "id": "e9cff406",
   "metadata": {},
   "outputs": [],
   "source": [
    "\n",
    "# KNN Algorithm \n",
    "\n",
    "def dist(p, q):\n",
    "    return np.sqrt(np.sum((p - q) ** 2))\n",
    "\n",
    "\n",
    "def knn(XT,YT,xt,k=5):\n",
    "    \n",
    "    m = XT.shape[0]\n",
    "    dlist = []\n",
    "    \n",
    "    for i in range(m):\n",
    "        d = dist(XT[i],xt)\n",
    "        dlist.append((d,YT[i]))\n",
    "        \n",
    "    dlist = sorted(dlist)\n",
    "    dlist = np.array(dlist[:k])\n",
    "    labels = dlist[:,1]\n",
    "    \n",
    "    \n",
    "    labels, cnts = np.unique(labels,return_counts=True)\n",
    "    idx = cnts.argmax()\n",
    "    pred = labels[idx]\n",
    "    \n",
    "    return int(pred)\n",
    "\n",
    "   "
   ]
  },
  {
   "cell_type": "code",
   "execution_count": null,
   "id": "3f33191d",
   "metadata": {},
   "outputs": [],
   "source": []
  },
  {
   "cell_type": "code",
   "execution_count": 6,
   "id": "20ef9240",
   "metadata": {},
   "outputs": [],
   "source": [
    "\n",
    "# Predictions\n",
    "\n",
    "cam = cv2.VideoCapture(0)\n",
    "\n",
    "model = cv2.CascadeClassifier(\"raw.githubusercontent.com_opencv_opencv_4.x_data_haarcascades_haarcascade_frontalface_alt.xml\")\n",
    "offset =10\n",
    "while True:\n",
    "    success , img = cam.read()\n",
    "    if not success:\n",
    "        print(\"The Process failed\")    \n",
    "    \n",
    "    faces = model.detectMultiScale(img,1.3,5)\n",
    "    \n",
    "    for f in faces:\n",
    "        x,y,w,h = f\n",
    "        cropped_face = img[y - offset:y+h + offset , x - offset:x + offset + w]\n",
    "        cropped_face = cv2.resize(cropped_face,(100,100))\n",
    "        \n",
    "        # Predict using KNN\n",
    "        classPredicted = knn(XT,YT,cropped_face.flatten())\n",
    "        \n",
    "        namePredicted = nameMap[classPredicted]\n",
    "        \n",
    "        # Display Name and box\n",
    "        cv2.putText(img,namePredicted,(x,y-10),cv2.FONT_HERSHEY_SIMPLEX,1,(255,0,0),2,cv2.LINE_AA)\n",
    "        cv2.rectangle(img,(x,y),(x+w,y+h),(0,255,0),2)\n",
    "    \n",
    "    cv2.imshow(\"Prediction Window\",img)\n",
    "    key = cv2.waitKey(10)\n",
    "    if key == ord('q'):\n",
    "        break\n",
    "        \n",
    "        \n",
    "cam.release()\n",
    "cv2.destroyAllWindows()"
   ]
  },
  {
   "cell_type": "code",
   "execution_count": null,
   "id": "57a5df08",
   "metadata": {},
   "outputs": [],
   "source": []
  }
 ],
 "metadata": {
  "kernelspec": {
   "display_name": "Python 3 (ipykernel)",
   "language": "python",
   "name": "python3"
  },
  "language_info": {
   "codemirror_mode": {
    "name": "ipython",
    "version": 3
   },
   "file_extension": ".py",
   "mimetype": "text/x-python",
   "name": "python",
   "nbconvert_exporter": "python",
   "pygments_lexer": "ipython3",
   "version": "3.11.3"
  }
 },
 "nbformat": 4,
 "nbformat_minor": 5
}
