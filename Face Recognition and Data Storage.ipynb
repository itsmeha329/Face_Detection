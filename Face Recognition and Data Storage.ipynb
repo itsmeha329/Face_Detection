{
 "cells": [
  {
   "cell_type": "code",
   "execution_count": 1,
   "id": "b0d7e3c5",
   "metadata": {},
   "outputs": [],
   "source": [
    "import cv2\n",
    "import numpy as np"
   ]
  },
  {
   "cell_type": "code",
   "execution_count": 2,
   "id": "c3589f97",
   "metadata": {},
   "outputs": [],
   "source": [
    "# Create A Camera Object\n",
    "\n",
    "cam = cv2.VideoCapture(0)\n"
   ]
  },
  {
   "cell_type": "code",
   "execution_count": 3,
   "id": "72a8f65e",
   "metadata": {},
   "outputs": [
    {
     "name": "stdout",
     "output_type": "stream",
     "text": [
      "Enter the name of the person : Tojo\n"
     ]
    }
   ],
   "source": [
    "# Ask the name\n",
    "\n",
    "FileName = input(\"Enter the name of the person : \")\n",
    "\n",
    "dataset_path = \"./data/\"\n",
    "\n",
    "offset = 30"
   ]
  },
  {
   "cell_type": "code",
   "execution_count": 4,
   "id": "480a2a2a",
   "metadata": {},
   "outputs": [],
   "source": [
    "model = cv2.CascadeClassifier(\"raw.githubusercontent.com_opencv_opencv_4.x_data_haarcascades_haarcascade_frontalface_alt.xml\")"
   ]
  },
  {
   "cell_type": "code",
   "execution_count": 5,
   "id": "df3c40d4",
   "metadata": {},
   "outputs": [
    {
     "name": "stdout",
     "output_type": "stream",
     "text": [
      "faces saved so far1\n",
      "faces saved so far2\n",
      "faces saved so far3\n",
      "faces saved so far4\n",
      "faces saved so far5\n",
      "faces saved so far6\n",
      "faces saved so far7\n",
      "faces saved so far8\n",
      "faces saved so far9\n",
      "faces saved so far10\n",
      "faces saved so far11\n",
      "faces saved so far12\n",
      "faces saved so far13\n",
      "faces saved so far14\n",
      "faces saved so far15\n",
      "faces saved so far16\n",
      "faces saved so far17\n",
      "faces saved so far18\n",
      "faces saved so far19\n",
      "faces saved so far20\n",
      "faces saved so far21\n",
      "faces saved so far22\n",
      "faces saved so far23\n",
      "(23, 30000)\n",
      "File Saved Successfully\n"
     ]
    }
   ],
   "source": [
    "faceData = []\n",
    "skip = 0\n",
    "# Read Image from the Camera object \n",
    "\n",
    "while True:\n",
    "    success , img = cam.read()\n",
    "    if not success:\n",
    "        print(\"The Process failed\")\n",
    "        \n",
    "    grayImg = cv2.cvtColor(img, cv2.COLOR_BGR2GRAY)\n",
    "    \n",
    "    \n",
    "    faces = model.detectMultiScale(img,1.3,5)\n",
    "    \n",
    "    faces = sorted(faces,key=lambda f:f[2]*f[3])\n",
    "    if len(faces)>0:\n",
    "        f = faces[-1]\n",
    "    \n",
    "        x,y,w,h = f\n",
    "        cv2.rectangle(img,(x,y),(x+w,y+h),(0,255,0),2)\n",
    "        \n",
    "        cropped_face = img[y - offset:y+h +offset , x - offset:x + offset + w]\n",
    "        cropped_face = cv2.resize(cropped_face,(100,100))\n",
    "        \n",
    "        \n",
    "        skip += 1\n",
    "        \n",
    "        if skip % 10 == 0:\n",
    "            faceData.append(cropped_face)\n",
    "            print(\"faces saved so far\" + str(len(faceData)))\n",
    "        \n",
    "    cv2.imshow(\"Image Window\",img)\n",
    "    key = cv2.waitKey(10)\n",
    "    if key == ord('q'):\n",
    "        break\n",
    "        \n",
    "        \n",
    "        \n",
    "faceData = np.asarray(faceData)\n",
    "m = faceData.shape[0]\n",
    "faceData = faceData.reshape((m,-1))\n",
    "print(faceData.shape)\n",
    "\n",
    "file = dataset_path + FileName + \".npy\"\n",
    "np.save(file, faceData)\n",
    "print(\"File Saved Successfully\")\n",
    "\n",
    "cam.release()\n",
    "cv2.destroyAllWindows()\n"
   ]
  },
  {
   "cell_type": "code",
   "execution_count": null,
   "id": "2c1627eb",
   "metadata": {},
   "outputs": [],
   "source": []
  }
 ],
 "metadata": {
  "kernelspec": {
   "display_name": "Python 3 (ipykernel)",
   "language": "python",
   "name": "python3"
  },
  "language_info": {
   "codemirror_mode": {
    "name": "ipython",
    "version": 3
   },
   "file_extension": ".py",
   "mimetype": "text/x-python",
   "name": "python",
   "nbconvert_exporter": "python",
   "pygments_lexer": "ipython3",
   "version": "3.11.3"
  }
 },
 "nbformat": 4,
 "nbformat_minor": 5
}
